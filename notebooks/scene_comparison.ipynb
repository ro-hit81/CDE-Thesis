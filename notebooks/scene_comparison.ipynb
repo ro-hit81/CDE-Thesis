{
 "cells": [
  {
   "cell_type": "code",
   "execution_count": 1,
   "metadata": {},
   "outputs": [],
   "source": [
    "import rasterio\n",
    "import geopandas as gpd\n",
    "import pandas as pd\n",
    "import numpy as np\n",
    "from rasterio.mask import mask"
   ]
  },
  {
   "cell_type": "code",
   "execution_count": 2,
   "metadata": {},
   "outputs": [],
   "source": [
    "data_path = '../../Initial Phase/int_out/comparison.gpkg'\n",
    "ndvi_path = '../../Initial Phase/2018_NDVI_LVG_tile.tif'"
   ]
  },
  {
   "cell_type": "code",
   "execution_count": 3,
   "metadata": {},
   "outputs": [],
   "source": [
    "with rasterio.open(ndvi_path) as src:\n",
    "    ndvi_crs = src.crs"
   ]
  },
  {
   "cell_type": "code",
   "execution_count": 4,
   "metadata": {},
   "outputs": [],
   "source": [
    "layers = {\n",
    "    \"common_area\": gpd.read_file(data_path, layer='common_areas'),\n",
    "    \"only_deter\": gpd.read_file(data_path, layer='only_deter'),\n",
    "    \"only_icv\": gpd.read_file(data_path, layer='only_icv'),\n",
    "}\n",
    "\n",
    "for name, gdf in layers.items():\n",
    "    layers[name] = gdf.to_crs(ndvi_crs)\n",
    "    \n",
    "    layers[name][\"geometry\"] = layers[name][\"geometry\"].buffer(0)"
   ]
  },
  {
   "cell_type": "code",
   "execution_count": 5,
   "metadata": {},
   "outputs": [
    {
     "name": "stdout",
     "output_type": "stream",
     "text": [
      "Average NDVI for common_area: 0.8377\n",
      "Average NDVI for only_deter: 0.8197\n",
      "Average NDVI for only_icv: 0.8511\n"
     ]
    }
   ],
   "source": [
    "mean_values = {}\n",
    "\n",
    "# Open raster once for efficiency\n",
    "with rasterio.open(ndvi_path) as src:\n",
    "    for name, gdf in layers.items():\n",
    "        # Combine geometries of each layer\n",
    "        geometry = [gdf.geometry.union_all()]\n",
    "        \n",
    "        # Mask the raster using the combined geometry\n",
    "        masked, _ = mask(src, geometry, crop=True)\n",
    "        masked = masked.astype(float)\n",
    "        \n",
    "        # Replace NoData with NaN and calculate mean\n",
    "        masked[masked == src.nodata] = np.nan\n",
    "        mean_values[name] = np.nanmean(masked)\n",
    "\n",
    "for layer, mean in mean_values.items():\n",
    "    print(f\"Average NDVI for {layer}: {mean:.4f}\")"
   ]
  },
  {
   "cell_type": "code",
   "execution_count": 6,
   "metadata": {},
   "outputs": [],
   "source": [
    "layers = {\n",
    "    \"common_area\": gpd.read_file(data_path, layer='common_areas'),\n",
    "    \"only_deter\": gpd.read_file(data_path, layer='only_deter'),\n",
    "    \"only_icv\": gpd.read_file(data_path, layer='only_icv')\n",
    "}\n",
    "\n",
    "year_columns = {\n",
    "    \"common_area\": \"YEAR\",\n",
    "    \"only_deter\": \"YEAR\",\n",
    "    \"only_icv\": \"Ano\"\n",
    "}\n",
    "\n",
    "for name, gdf in layers.items():\n",
    "    layers[name] = gdf.to_crs(ndvi_crs)\n",
    "    layers[name][year_columns[name]] = pd.to_numeric(layers[name][year_columns[name]], errors=\"coerce\")\n",
    "    layers[name] = layers[name][layers[name][year_columns[name]] == 2018]\n",
    "    layers[name][\"geometry\"] = layers[name][\"geometry\"].buffer(0)"
   ]
  },
  {
   "cell_type": "code",
   "execution_count": 7,
   "metadata": {},
   "outputs": [
    {
     "name": "stdout",
     "output_type": "stream",
     "text": [
      "Average NDVI for common_area: 0.8405\n",
      "Average NDVI for only_deter: 0.7741\n",
      "Average NDVI for only_icv: 0.8330\n"
     ]
    }
   ],
   "source": [
    "mean_values = {}\n",
    "\n",
    "# Open raster once for efficiency\n",
    "with rasterio.open(ndvi_path) as src:\n",
    "    for name, gdf in layers.items():\n",
    "        # Combine geometries of each layer\n",
    "        geometry = [gdf.geometry.union_all()]\n",
    "        \n",
    "        # Mask the raster using the combined geometry\n",
    "        masked, _ = mask(src, geometry, crop=True)\n",
    "        masked = masked.astype(float)\n",
    "        \n",
    "        # Replace NoData with NaN and calculate mean\n",
    "        masked[masked == src.nodata] = np.nan\n",
    "        mean_values[name] = np.nanmean(masked)\n",
    "\n",
    "for layer, mean in mean_values.items():\n",
    "    print(f\"Average NDVI for {layer}: {mean:.4f}\")"
   ]
  }
 ],
 "metadata": {
  "kernelspec": {
   "display_name": "thesis",
   "language": "python",
   "name": "python3"
  },
  "language_info": {
   "codemirror_mode": {
    "name": "ipython",
    "version": 3
   },
   "file_extension": ".py",
   "mimetype": "text/x-python",
   "name": "python",
   "nbconvert_exporter": "python",
   "pygments_lexer": "ipython3",
   "version": "3.10.16"
  }
 },
 "nbformat": 4,
 "nbformat_minor": 2
}
