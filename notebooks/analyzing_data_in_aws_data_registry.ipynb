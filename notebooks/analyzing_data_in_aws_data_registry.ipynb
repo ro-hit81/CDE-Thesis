{
 "cells": [
  {
   "cell_type": "code",
   "execution_count": 1,
   "metadata": {},
   "outputs": [],
   "source": [
    "import boto3"
   ]
  },
  {
   "cell_type": "code",
   "execution_count": 17,
   "metadata": {},
   "outputs": [],
   "source": [
    "s3 = boto3.client('s3')\n",
    "bucket_name = \"sentinel-cogs\"\n",
    "tile = \"YG\""
   ]
  },
  {
   "cell_type": "code",
   "execution_count": null,
   "metadata": {},
   "outputs": [
    {
     "name": "stdout",
     "output_type": "stream",
     "text": [
      "\n",
      "Year 2019:\n",
      "  Month 01: 12 granules\n",
      "  Month 02: 12 granules\n",
      "  Month 03: 17 granules\n",
      "  Month 04: 24 granules\n",
      "  Month 05: 25 granules\n",
      "  Month 06: 25 granules\n",
      "  Month 07: 26 granules\n",
      "  Month 08: 24 granules\n",
      "  Month 09: 24 granules\n",
      "  Month 10: 26 granules\n",
      "  Month 11: 22 granules\n",
      "  Month 12: 24 granules\n",
      "\n",
      "Year 2020:\n",
      "  Month 01: 24 granules\n",
      "  Month 02: 24 granules\n",
      "  Month 03: 24 granules\n",
      "  Month 04: 26 granules\n",
      "  Month 05: 26 granules\n",
      "  Month 06: 24 granules\n",
      "  Month 07: 24 granules\n",
      "  Month 08: 25 granules\n",
      "  Month 09: 24 granules\n",
      "  Month 10: 20 granules\n",
      "  Month 11: 25 granules\n",
      "  Month 12: 24 granules\n",
      "\n",
      "Year 2021:\n",
      "  Month 01: 26 granules\n",
      "  Month 02: 22 granules\n",
      "  Month 03: 26 granules\n",
      "  Month 04: 29 granules\n",
      "  Month 05: 32 granules\n",
      "  Month 06: 25 granules\n",
      "  Month 07: 26 granules\n",
      "  Month 08: 28 granules\n",
      "  Month 09: 25 granules\n",
      "  Month 10: 25 granules\n",
      "  Month 11: 24 granules\n",
      "  Month 12: 26 granules\n"
     ]
    }
   ],
   "source": [
    "for year in range(2019, 2022):\n",
    "    print(f\"\\nYear {year}:\")\n",
    "    for month in range(1, 13):\n",
    "        month_str = str(month)\n",
    "        prefix = f\"sentinel-s2-l2a-cogs/21/L/{tile}/{year}/{month_str}/\"\n",
    "\n",
    "        response = s3.list_objects_v2(Bucket=bucket_name, Prefix=prefix)\n",
    "        unique_granules = set()\n",
    "\n",
    "        if 'Contents' in response:\n",
    "            for obj in response['Contents']:\n",
    "                key_parts = obj['Key'].split(\"/\")\n",
    "                granule_name = key_parts[6]\n",
    "                unique_granules.add(granule_name)\n",
    "\n",
    "            print(f\"  Month {month:02d}: {len(unique_granules)} granules\")"
   ]
  },
  {
   "cell_type": "code",
   "execution_count": null,
   "metadata": {},
   "outputs": [],
   "source": []
  }
 ],
 "metadata": {
  "kernelspec": {
   "display_name": "thesis",
   "language": "python",
   "name": "python3"
  },
  "language_info": {
   "codemirror_mode": {
    "name": "ipython",
    "version": 3
   },
   "file_extension": ".py",
   "mimetype": "text/x-python",
   "name": "python",
   "nbconvert_exporter": "python",
   "pygments_lexer": "ipython3",
   "version": "3.10.16"
  }
 },
 "nbformat": 4,
 "nbformat_minor": 2
}
